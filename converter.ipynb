{
 "cells": [
  {
   "cell_type": "code",
   "execution_count": 3,
   "metadata": {},
   "outputs": [],
   "source": [
    "import json\n",
    "with open('ACMHardwareConfiguration.json') as f:\n",
    "    data = json.load(f)"
   ]
  },
  {
   "cell_type": "code",
   "execution_count": 4,
   "metadata": {},
   "outputs": [
    {
     "output_type": "execute_result",
     "data": {
      "text/plain": "[{'CustomerId': '1297052c-c319-4a48-a8d4-1f34507a22ea',\n  'CustomerName': 'State of Nevada DMV',\n  'CustomerTimeZoneId': 'US/Pacific',\n  'Equipment': 'Flamingo-AAM',\n  'EquipmentId': '320eac7f-cad6-4c24-bd17-b7ff7e13d59d',\n  'LocationId': '08b55784-9646-4d2f-bfa1-7780a376b634',\n  'LocationName': 'SoN DMV',\n  'LocationTimeZoneId': 'US/Pacific',\n  'PartnerTimeZoneId': 'US/Pacific',\n  'Product': 'Aura Messaging',\n  'Vendor': 'Avaya',\n  'VendorId': '019b0ed0-30ae-4684-995a-d5f761e44f30',\n  'VendorProductId': '4269eb74-48a5-412c-8636-746937211c4f',\n  'AlarmCount': 69},\n {'CustomerId': '1297052c-c319-4a48-a8d4-1f34507a22ea',\n  'CustomerName': 'State of Nevada DMV',\n  'CustomerTimeZoneId': 'US/Pacific',\n  'Equipment': 'Winnemucca-CM',\n  'EquipmentId': 'f12686ff-9012-4555-ac15-186ed1b0aec2',\n  'LocationId': '08b55784-9646-4d2f-bfa1-7780a376b634',\n  'LocationName': 'SoN DMV',\n  'LocationTimeZoneId': 'US/Pacific',\n  'PartnerTimeZoneId': 'US/Pacific',\n  'Product': 'ACM',\n  'Vendor': 'Avaya',\n  'VendorId': '019b0ed0-30ae-4684-995a-d5f761e44f30',\n  'VendorProductId': 'b97d68fc-1b02-4a96-9cb6-ae73b0ea19ea',\n  '0': {'DBEndTime': '12/31/9999 11:59:59 PM',\n   'DBStartTime': '2/28/2019 8:00:00 AM',\n   'EndUTCDateTime': '4/8/2019 12:17:05 PM',\n   'EquipmentId': 'f12686ff-9012-4555-ac15-186ed1b0aec2',\n   'Hardware': '',\n   'IPAddress': '',\n   'IPNR': '0',\n   'Id': '7a95ef44-092d-402c-a7b3-dfb1410c3008',\n   'Item': 'SERVER',\n   'LocationId': '00000000-0000-0000-0000-000000000000',\n   'MACAddress': '',\n   'Number': '',\n   'Patch': '03.0.124.0-21904',\n   'Port': '',\n   'SequenceNo': '1',\n   'SerialNo': '',\n   'Site': '',\n   'SoftwareVersion': 'R016x.03.0.124.0',\n   'StartUTCDateTime': '4/8/2019 12:17:05 PM',\n   'Type': 'vcm',\n   'UTCDateTime': '4/1/2019 10:36:59 PM'},\n  '1': {'DBEndTime': '12/31/9999 11:59:59 PM',\n   'DBStartTime': '2/28/2019 8:00:00 AM',\n   'EndUTCDateTime': '4/8/2019 12:17:05 PM',\n   'EquipmentId': 'f12686ff-9012-4555-ac15-186ed1b0aec2',\n   'Hardware': '',\n   'IPAddress': '',\n   'IPNR': '0',\n   'Id': '846cfc36-26e4-4cab-b5ac-478a91340888',\n   'Item': 'SERVER',\n   'LocationId': '00000000-0000-0000-0000-000000000000',\n   'MACAddress': '',\n   'Number': '',\n   'Patch': '03.0.124.0-21904',\n   'Port': '',\n   'SequenceNo': '2',\n   'SerialNo': '',\n   'Site': '',\n   'SoftwareVersion': 'R016x.03.0.124.0',\n   'StartUTCDateTime': '4/8/2019 12:17:05 PM',\n   'Type': 'vcm',\n   'UTCDateTime': '4/1/2019 10:36:59 PM'},\n  '2': {'DBEndTime': '12/31/9999 11:59:59 PM',\n   'DBStartTime': '2/28/2019 8:00:00 AM',\n   'EndUTCDateTime': '4/8/2019 12:17:05 PM',\n   'EquipmentId': 'f12686ff-9012-4555-ac15-186ed1b0aec2',\n   'Hardware': '3',\n   'IPAddress': '10.140.3.3',\n   'IPNR': '1',\n   'Id': '978dc8ed-122e-4158-977a-6557f203d352',\n   'Item': 'MEDIA-GATEWAY',\n   'LocationId': '00000000-0000-0000-0000-000000000000',\n   'MACAddress': '',\n   'Number': '',\n   'Patch': '',\n   'Port': '001',\n   'SequenceNo': '4',\n   'SerialNo': '07IS24125089',\n   'Site': '',\n   'SoftwareVersion': '30.27.1',\n   'StartUTCDateTime': '4/8/2019 12:17:05 PM',\n   'Type': 'g350',\n   'UTCDateTime': '6/25/2020 12:46:49 AM'},\n  'AlarmCount': 69}]"
     },
     "metadata": {},
     "execution_count": 4
    }
   ],
   "source": [
    "data[0:2]"
   ]
  },
  {
   "cell_type": "code",
   "execution_count": null,
   "metadata": {},
   "outputs": [],
   "source": []
  }
 ],
 "metadata": {
  "language_info": {
   "codemirror_mode": {
    "name": "ipython",
    "version": 3
   },
   "file_extension": ".py",
   "mimetype": "text/x-python",
   "name": "python",
   "nbconvert_exporter": "python",
   "pygments_lexer": "ipython3",
   "version": "3.7.5-final"
  },
  "orig_nbformat": 2,
  "kernelspec": {
   "name": "python37564bitconverterenvvenvc0bc0a90bbd34573869992efa7eb95e5",
   "display_name": "Python 3.7.5 64-bit ('converterEnv': venv)"
  }
 },
 "nbformat": 4,
 "nbformat_minor": 2
}