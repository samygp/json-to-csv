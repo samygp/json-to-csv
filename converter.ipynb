{
 "cells": [
  {
   "cell_type": "code",
   "execution_count": 40,
   "metadata": {},
   "outputs": [],
   "source": [
    "import json\n",
    "with open('ACMHardwareConfigurationFormat2.json') as f:\n",
    "    data = json.load(f)\n",
    "    f.close()"
   ]
  },
  {
   "cell_type": "code",
   "execution_count": 41,
   "metadata": {
    "tags": []
   },
   "outputs": [
    {
     "output_type": "stream",
     "name": "stdout",
     "text": "7203 971\n"
    }
   ],
   "source": [
    "config_result = []\n",
    "\n",
    "for hw in data:\n",
    "    new_items = []\n",
    "    equipment = hw.pop('ACMEquipmeent', None)\n",
    "    if equipment is not None:\n",
    "        for eq in equipment:\n",
    "            item = dict(hw)\n",
    "            for k in eq.keys():\n",
    "                if not 'ACME' in k:\n",
    "                    eq['ACME_'+k] = eq.pop(k, None)\n",
    "            item.update(eq)\n",
    "            new_items.append(item)\n",
    "    else:\n",
    "        new_items.append(hw)\n",
    "    config_result.extend(new_items)\n",
    "\n",
    "print(len(config_result), len(data))\n"
   ]
  },
  {
   "cell_type": "code",
   "execution_count": 44,
   "metadata": {},
   "outputs": [],
   "source": [
    "import pandas as pd\n",
    "from numpy import nan\n",
    "\n",
    "df = pd.read_json(json.dumps(config_result)).replace(nan, '')\n",
    "df.head()\n",
    "df.to_excel('ACMHardware.xlsx')"
   ]
  }
 ],
 "metadata": {
  "language_info": {
   "codemirror_mode": {
    "name": "ipython",
    "version": 3
   },
   "file_extension": ".py",
   "mimetype": "text/x-python",
   "name": "python",
   "nbconvert_exporter": "python",
   "pygments_lexer": "ipython3",
   "version": "3.7.5-final"
  },
  "orig_nbformat": 2,
  "kernelspec": {
   "name": "python37564bitconverterenvvenvc0bc0a90bbd34573869992efa7eb95e5",
   "display_name": "Python 3.7.5 64-bit ('converterEnv': venv)"
  }
 },
 "nbformat": 4,
 "nbformat_minor": 2
}